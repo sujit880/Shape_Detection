{
 "cells": [
  {
   "cell_type": "code",
   "execution_count": 33,
   "metadata": {},
   "outputs": [],
   "source": [
    "import os\n",
    "import cv2\n",
    "import numpy as np\n",
    "import pandas as pd\n",
    "from sklearn.svm import SVC as SVM\n",
    "from sklearn.preprocessing import StandardScaler\n",
    "from sklearn.neighbors import NearestCentroid as NC\n",
    "from sklearn.model_selection import train_test_split as data_split\n",
    "from sklearn.discriminant_analysis import LinearDiscriminantAnalysis as LDA\n",
    "from sklearn.discriminant_analysis import QuadraticDiscriminantAnalysis as QDA"
   ]
  },
  {
   "cell_type": "code",
   "execution_count": 34,
   "metadata": {},
   "outputs": [],
   "source": [
    "classes = {\n",
    "\t\"image1\"   : 1,\n",
    "\t\"image2\"   : 2,\n",
    "\t\"image3\"     : 3,\n",
    "\t\"image4\" : 4\n",
    "}\n",
    "\n",
    "classifiers = {\n",
    "\t\"NC\"         : NC(),\n",
    "\t\"LDA\"        : LDA(),\n",
    "\t\"QDA\"        : QDA(),\n",
    "\t\"SVM_linear\" : SVM(kernel=\"linear\"),\n",
    "\t\"SVM_radial\" : SVM(kernel=\"rbf\")\n",
    "}"
   ]
  },
  {
   "cell_type": "code",
   "execution_count": 35,
   "metadata": {},
   "outputs": [],
   "source": [
    "def feature_extraction(data_file, dataset=\"./Dataset/\"):\n",
    "\tdump = []\n",
    "\t\n",
    "\tprint(\"Extracting Hu moments...\")\n",
    "\t\n",
    "\tfor c, idx in classes.items():\n",
    "\t\tclass_folder = dataset + \"{}/\".format(c)\n",
    "\t\t\n",
    "\t\tfor f in os.listdir(class_folder):\n",
    "\t\t\tfpath = class_folder + f\n",
    "\t\t\tsample = (f.replace(\".jpeg\", \"\"))\n",
    "\t\t\t\n",
    "\t\t\timg = cv2.imread(fpath, cv2.IMREAD_GRAYSCALE)\n",
    "\t\t\timg = cv2.bitwise_not(img)\n",
    "\t\t\thu = cv2.HuMoments(cv2.moments(img))\n",
    "\t\t\tprint(f\"moments:{f}->\", hu)\n",
    "\t\t\t\n",
    "\t\t\tfor i in range(0, len(hu)):\n",
    "\t\t\t\thu[i] = -1 * np.sign(hu[i]) * np.log10(np.abs(hu[i]))\n",
    "\t\t\t\t# dump.append(hu[i])\n",
    "\t\t\t\n",
    "\t\t\thu = hu.reshape((1, 7)).tolist()[0] + [sample, idx]\n",
    "\t\t\tdump.append(hu)\n",
    "\t\t\n",
    "\t\tprint(c, \"ok!\")\n",
    "\n",
    "\tcols = [\"hu1\", \"hu2\", \"hu3\", \"hu4\", \"hu5\", \"hu6\", \"hu7\", \"sample\", \"class\"]\n",
    "\t\n",
    "\tdf = pd.DataFrame(dump, columns=cols)\n",
    "\tdf.to_csv(data_file, index=None)\n",
    "\t\n",
    "\tprint(\"Extraction done!\")"
   ]
  },
  {
   "cell_type": "code",
   "execution_count": 36,
   "metadata": {},
   "outputs": [
    {
     "name": "stdout",
     "output_type": "stream",
     "text": [
      "Extracting Hu moments...\n",
      "moments:image1.jpeg-> [[ 1.67680488e-03]\n",
      " [ 2.93962815e-07]\n",
      " [ 1.50143928e-11]\n",
      " [ 8.64448263e-12]\n",
      " [-7.87032918e-23]\n",
      " [-2.24166603e-15]\n",
      " [-5.92008737e-23]]\n",
      "moments:image4.png-> [[ 7.41473066e-04]\n",
      " [ 4.28370218e-08]\n",
      " [ 2.36351125e-16]\n",
      " [ 2.24273276e-16]\n",
      " [ 4.99644182e-32]\n",
      " [ 4.44668292e-20]\n",
      " [-1.30284981e-32]]\n",
      "image1 ok!\n",
      "moments:image2.png-> [[ 1.46662174e-03]\n",
      " [ 1.02351178e-06]\n",
      " [ 1.24359918e-12]\n",
      " [ 8.45520750e-13]\n",
      " [ 6.32178482e-25]\n",
      " [ 2.63412632e-16]\n",
      " [-5.93350993e-25]]\n",
      "moments:image5.png-> [[ 1.26128260e-03]\n",
      " [ 7.72926823e-07]\n",
      " [ 6.55736775e-12]\n",
      " [ 4.29086160e-12]\n",
      " [ 1.66813439e-23]\n",
      " [ 1.04294167e-15]\n",
      " [-1.54845887e-23]]\n",
      "image2 ok!\n",
      "moments:image3.png-> [[1.74025082e-03]\n",
      " [7.47256769e-07]\n",
      " [2.34345656e-12]\n",
      " [6.38733975e-12]\n",
      " [2.41719497e-23]\n",
      " [5.24567046e-15]\n",
      " [5.13823249e-24]]\n",
      "image3 ok!\n",
      "moments:original_min.png-> [[ 1.67711355e-03]\n",
      " [ 2.93165187e-07]\n",
      " [ 1.40596540e-11]\n",
      " [ 8.76778033e-12]\n",
      " [-7.61847058e-23]\n",
      " [-2.28876109e-15]\n",
      " [-6.05994685e-23]]\n",
      "image4 ok!\n",
      "Extraction done!\n"
     ]
    }
   ],
   "source": [
    "data_file = \"hu_moments.csv\"\n",
    "\n",
    "feature_extraction(data_file)"
   ]
  },
  {
   "cell_type": "code",
   "execution_count": 37,
   "metadata": {},
   "outputs": [],
   "source": [
    "def classification(data_file, rounds=100, remove_disperse=[]):\n",
    "\tdf = pd.read_csv(data_file)\n",
    "\tdf = df.drop([\"sample\"], axis=1)\n",
    "\t\n",
    "\tif remove_disperse:\n",
    "\t\tdf = df.drop(remove_disperse, axis=1)\n",
    "\t\n",
    "\tX = df.drop([\"class\"], axis=1)\n",
    "\ty = df[\"class\"]\n",
    "\t\n",
    "\tans = {key: {\"score\" : []} for key, value in classifiers.items()}\n",
    "\t\n",
    "\tprint(\"Classifying...\")\n",
    "\t\n",
    "\tfor i in range(rounds):\n",
    "\t\tX_train, X_test, y_train, y_test = data_split(X, y, test_size=0.3)\n",
    "\t\t\n",
    "\t\tfor name, classifier in classifiers.items():\n",
    "\t\t\tscaler = StandardScaler()\n",
    "\t\t\tscaler.fit(X_train)\n",
    "\t\t\tX_train = scaler.transform(X_train)\n",
    "\t\t\tX_test = scaler.transform(X_test)\n",
    "\t\t\t\n",
    "\t\t\tclassifier.fit(X_train, y_train)\n",
    "\t\t\tscore = classifier.score(X_test, y_test)\n",
    "\t\t\t\n",
    "\t\t\tans[name][\"score\"].append(score)\n",
    "\t\t\n",
    "\tprint(\"Classification done!\")\n",
    "\t\n",
    "\treturn ans"
   ]
  },
  {
   "cell_type": "code",
   "execution_count": 38,
   "metadata": {},
   "outputs": [
    {
     "name": "stdout",
     "output_type": "stream",
     "text": [
      "Classifying...\n"
     ]
    },
    {
     "ename": "ValueError",
     "evalue": "y has only 1 sample in class 1, covariance is ill defined.",
     "output_type": "error",
     "traceback": [
      "\u001b[1;31m---------------------------------------------------------------------------\u001b[0m",
      "\u001b[1;31mValueError\u001b[0m                                Traceback (most recent call last)",
      "\u001b[1;32m~\\AppData\\Local\\Temp/ipykernel_20840/156082977.py\u001b[0m in \u001b[0;36m<module>\u001b[1;34m\u001b[0m\n\u001b[1;32m----> 1\u001b[1;33m \u001b[0mans\u001b[0m \u001b[1;33m=\u001b[0m \u001b[0mclassification\u001b[0m\u001b[1;33m(\u001b[0m\u001b[0mdata_file\u001b[0m\u001b[1;33m)\u001b[0m\u001b[1;33m\u001b[0m\u001b[1;33m\u001b[0m\u001b[0m\n\u001b[0m",
      "\u001b[1;32m~\\AppData\\Local\\Temp/ipykernel_20840/4238290389.py\u001b[0m in \u001b[0;36mclassification\u001b[1;34m(data_file, rounds, remove_disperse)\u001b[0m\n\u001b[0;32m     22\u001b[0m                         \u001b[0mX_test\u001b[0m \u001b[1;33m=\u001b[0m \u001b[0mscaler\u001b[0m\u001b[1;33m.\u001b[0m\u001b[0mtransform\u001b[0m\u001b[1;33m(\u001b[0m\u001b[0mX_test\u001b[0m\u001b[1;33m)\u001b[0m\u001b[1;33m\u001b[0m\u001b[1;33m\u001b[0m\u001b[0m\n\u001b[0;32m     23\u001b[0m \u001b[1;33m\u001b[0m\u001b[0m\n\u001b[1;32m---> 24\u001b[1;33m                         \u001b[0mclassifier\u001b[0m\u001b[1;33m.\u001b[0m\u001b[0mfit\u001b[0m\u001b[1;33m(\u001b[0m\u001b[0mX_train\u001b[0m\u001b[1;33m,\u001b[0m \u001b[0my_train\u001b[0m\u001b[1;33m)\u001b[0m\u001b[1;33m\u001b[0m\u001b[1;33m\u001b[0m\u001b[0m\n\u001b[0m\u001b[0;32m     25\u001b[0m                         \u001b[0mscore\u001b[0m \u001b[1;33m=\u001b[0m \u001b[0mclassifier\u001b[0m\u001b[1;33m.\u001b[0m\u001b[0mscore\u001b[0m\u001b[1;33m(\u001b[0m\u001b[0mX_test\u001b[0m\u001b[1;33m,\u001b[0m \u001b[0my_test\u001b[0m\u001b[1;33m)\u001b[0m\u001b[1;33m\u001b[0m\u001b[1;33m\u001b[0m\u001b[0m\n\u001b[0;32m     26\u001b[0m \u001b[1;33m\u001b[0m\u001b[0m\n",
      "\u001b[1;32mc:\\Users\\S_G\\anaconda3\\lib\\site-packages\\sklearn\\discriminant_analysis.py\u001b[0m in \u001b[0;36mfit\u001b[1;34m(self, X, y)\u001b[0m\n\u001b[0;32m    799\u001b[0m             \u001b[0mmeans\u001b[0m\u001b[1;33m.\u001b[0m\u001b[0mappend\u001b[0m\u001b[1;33m(\u001b[0m\u001b[0mmeang\u001b[0m\u001b[1;33m)\u001b[0m\u001b[1;33m\u001b[0m\u001b[1;33m\u001b[0m\u001b[0m\n\u001b[0;32m    800\u001b[0m             \u001b[1;32mif\u001b[0m \u001b[0mlen\u001b[0m\u001b[1;33m(\u001b[0m\u001b[0mXg\u001b[0m\u001b[1;33m)\u001b[0m \u001b[1;33m==\u001b[0m \u001b[1;36m1\u001b[0m\u001b[1;33m:\u001b[0m\u001b[1;33m\u001b[0m\u001b[1;33m\u001b[0m\u001b[0m\n\u001b[1;32m--> 801\u001b[1;33m                 raise ValueError('y has only 1 sample in class %s, covariance '\n\u001b[0m\u001b[0;32m    802\u001b[0m                                  'is ill defined.' % str(self.classes_[ind]))\n\u001b[0;32m    803\u001b[0m             \u001b[0mXgc\u001b[0m \u001b[1;33m=\u001b[0m \u001b[0mXg\u001b[0m \u001b[1;33m-\u001b[0m \u001b[0mmeang\u001b[0m\u001b[1;33m\u001b[0m\u001b[1;33m\u001b[0m\u001b[0m\n",
      "\u001b[1;31mValueError\u001b[0m: y has only 1 sample in class 1, covariance is ill defined."
     ]
    }
   ],
   "source": [
    "ans = classification(data_file)"
   ]
  }
 ],
 "metadata": {
  "kernelspec": {
   "display_name": "Python 3.9.7 ('base')",
   "language": "python",
   "name": "python3"
  },
  "language_info": {
   "codemirror_mode": {
    "name": "ipython",
    "version": 3
   },
   "file_extension": ".py",
   "mimetype": "text/x-python",
   "name": "python",
   "nbconvert_exporter": "python",
   "pygments_lexer": "ipython3",
   "version": "3.9.7"
  },
  "orig_nbformat": 4,
  "vscode": {
   "interpreter": {
    "hash": "e640534e854153cf3aa919e1f87cee531bdf125cbd105027239b8a6dcae82d24"
   }
  }
 },
 "nbformat": 4,
 "nbformat_minor": 2
}
