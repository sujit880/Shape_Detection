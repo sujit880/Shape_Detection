{
 "cells": [
  {
   "cell_type": "markdown",
   "metadata": {},
   "source": [
    "## load libray"
   ]
  },
  {
   "cell_type": "code",
   "execution_count": null,
   "id": "82a249ab",
   "metadata": {},
   "outputs": [],
   "source": [
    "import os\n",
    "import sys\n",
    "import glob\n",
    "import cv2\n",
    "import numpy as np\n",
    "import matplotlib.pyplot as plt"
   ]
  },
  {
   "cell_type": "markdown",
   "metadata": {},
   "source": [
    "## sort function"
   ]
  },
  {
   "cell_type": "code",
   "execution_count": null,
   "id": "210b95ea",
   "metadata": {},
   "outputs": [],
   "source": [
    "def sort_items(a):\n",
    "    path=\"./images5\"\n",
    "    return int(a[len(path)+1:len(a)-4])"
   ]
  },
  {
   "cell_type": "markdown",
   "metadata": {},
   "source": [
    "## Load images"
   ]
  },
  {
   "cell_type": "code",
   "execution_count": null,
   "id": "754d4c0a",
   "metadata": {},
   "outputs": [],
   "source": [
    "path=\"./images5\"\n",
    "images = glob.glob(path+\"/*.png\")\n",
    "images.sort(key=sort_items)\n",
    "#a=sorted(images, key=sort_items)\n",
    "#print(images)"
   ]
  },
  {
   "cell_type": "markdown",
   "metadata": {},
   "source": [
    "## Thresholding customize funtion"
   ]
  },
  {
   "cell_type": "code",
   "execution_count": null,
   "id": "ad6b7d5f",
   "metadata": {},
   "outputs": [],
   "source": [
    "def thrsh1(img,t):\n",
    "    inpt=img.copy()\n",
    "    for i in range (len(inpt)):\n",
    "        for j in range (len(inpt[i])):\n",
    "            if inpt[i][j]>t:\n",
    "                inpt[i][j]=t\n",
    "    ret, thresh1 = cv2.threshold(inpt, 0, 255, cv2.THRESH_BINARY | cv2.THRESH_OTSU)\n",
    "    cv2.imwrite(\"thresh1\"+str(int(t))+\".png\",thresh1)\n",
    "    plt.imshow(thresh1)\n",
    "    return ret\n",
    "\n",
    "def thrsh2(img,t):\n",
    "    inpt=img.copy()\n",
    "    for i in range(len(inpt)):\n",
    "        for j in range (len(inpt[i])):\n",
    "            if inpt[i][j]<t:\n",
    "                inpt[i][j]=t\n",
    "    ret, thresh1 = cv2.threshold(inpt, 0, 255, cv2.THRESH_BINARY | cv2.THRESH_OTSU)\n",
    "    cv2.imwrite(\"thresh2\"+str(int(t))+\".png\",thresh1)\n",
    "    plt.imshow(thresh1)\n",
    "    return ret,thresh1\n",
    "\n",
    "def setpx(img,t1,t2,t3):\n",
    "    inpt=img.copy()\n",
    "    inpt1 = img.copy()\n",
    "    inpt2 = img.copy()\n",
    "    inpt3 = img.copy()\n",
    "    for i in range(len(inpt)):\n",
    "        for j in range (len(inpt[i])):\n",
    "            if (inpt[i][j]<t1):\n",
    "                inpt[i][j]=0\n",
    "            elif(inpt[i][j]<t2):\n",
    "                inpt[i][j]=t1\n",
    "            elif (inpt[i][j]<t3):\n",
    "                inpt[i][j]=t2\n",
    "            else:\n",
    "                inpt[i][j]=t3\n",
    "    cv2.imwrite(\"Final.png\",inpt)\n",
    "    plt.imshow(inpt)\n",
    "    return inpt\n",
    "\n",
    "def writepx(img,t1,t2,t3):\n",
    "    inpt=img.copy()\n",
    "    inpt1 = img.copy()\n",
    "    inpt2 = img.copy()\n",
    "    inpt3 = img.copy()\n",
    "    for i in range(len(inpt)):\n",
    "        for j in range (len(inpt[i])):\n",
    "            if (inpt1[i][j]==t1):\n",
    "                inpt1[i][j]=t1\n",
    "            else:\n",
    "                inpt1[i][j]=0\n",
    "            if(inpt2[i][j]==t2):\n",
    "                inpt2[i][j]=t2\n",
    "            else:\n",
    "                inpt2[i][j]=0\n",
    "            if (inpt3[i][j]==t3):\n",
    "                inpt3[i][j]=t3\n",
    "            else:\n",
    "                inpt3[i][j]=0\n",
    "                \n",
    "    cv2.imwrite(\"inpt1.png\",inpt1)\n",
    "    cv2.imwrite(\"inpt2.png\",inpt2)\n",
    "    cv2.imwrite(\"inpt3.png\",inpt3)"
   ]
  },
  {
   "cell_type": "markdown",
   "metadata": {},
   "source": [
    "## im_show function"
   ]
  },
  {
   "cell_type": "code",
   "execution_count": null,
   "id": "59f1710d",
   "metadata": {},
   "outputs": [],
   "source": [
    "def im_show(img):\n",
    "    cv2.imshow(\"image\", img)\n",
    "    cv2.waitKey(0) \n",
    "    cv2.destroyAllWindows() "
   ]
  },
  {
   "cell_type": "markdown",
   "metadata": {},
   "source": [
    "## crop image using mask funtion"
   ]
  },
  {
   "cell_type": "code",
   "execution_count": null,
   "id": "0b93d5de",
   "metadata": {},
   "outputs": [],
   "source": [
    "def crop(img):\n",
    "    image = cv2.imread(img)\n",
    "    #imageGray = cv2.cvtColor(image, cv2.COLOR_BGR2GRAY)\n",
    "    mask = np.zeros(image.shape[:2], dtype=\"uint8\")\n",
    "    pts = np.array([[1300,580], [1700,580], [1600,720], [1400,720]])\n",
    "    color = 255\n",
    "    cv2.fillPoly(mask, [pts], color)\n",
    "    masked = cv2.bitwise_and(image, image, mask=mask)\n",
    "    rect = cv2.boundingRect(pts)\n",
    "    x,y,w,h = rect\n",
    "    croped = image[y:y+h, x:x+w].copy()\n",
    "    print(croped.shape, image.shape)\n",
    "    return croped, image"
   ]
  },
  {
   "cell_type": "markdown",
   "metadata": {},
   "source": [
    "## Main algo"
   ]
  },
  {
   "cell_type": "code",
   "execution_count": null,
   "id": "89c295d8",
   "metadata": {},
   "outputs": [],
   "source": [
    "x,y = 1000,10\n",
    "font = cv2.FONT_HERSHEY_SIMPLEX\n",
    "fontScale = 1\n",
    "thickness = 2\n",
    "color=(0,0,0)\n",
    "count=0\n",
    "out_path=\"./out5/\"\n",
    "for img in images:\n",
    "    #path=\"./images5\"\n",
    "    print(img[len(path)+1:])\n",
    "    if(int(img[len(path)+1:len(img)-4])<140):\n",
    "        continue\n",
    "    croped, original = crop(img)\n",
    "    x1=x+croped.shape[1]+200\n",
    "    y1= y +20\n",
    "    red_box = cv2.rectangle(original, (x1, y1), (x1+300, y1+100), (255, 255, 255), -1)\n",
    "    original[y:y+croped.shape[0],x:x+croped.shape[1]] = croped\n",
    "    org=(x1+5,y1+60)\n",
    "    im_show(croped)\n",
    "    count += int(input(\"enter count value\"))\n",
    "    image = cv2.putText(original, str(count), org, font, fontScale, color, thickness, cv2.LINE_AA)\n",
    "    cv2.imwrite(out_path+img[len(path)+1:],image)\n",
    "    #im_show(original)"
   ]
  },
  {
   "cell_type": "code",
   "execution_count": null,
   "id": "23e1c806",
   "metadata": {},
   "outputs": [],
   "source": []
  }
 ],
 "metadata": {
  "interpreter": {
   "hash": "6a945953ebc6c810638dfa4cadae95c4f7a2077f568c55c6b00cbbac5e563534"
  },
  "kernelspec": {
   "display_name": "Python 3.8.8 64-bit ('base': conda)",
   "name": "python3"
  },
  "language_info": {
   "codemirror_mode": {
    "name": "ipython",
    "version": 3
   },
   "file_extension": ".py",
   "mimetype": "text/x-python",
   "name": "python",
   "nbconvert_exporter": "python",
   "pygments_lexer": "ipython3",
   "version": "3.8.8"
  }
 },
 "nbformat": 4,
 "nbformat_minor": 5
}
