{
 "cells": [
  {
   "cell_type": "code",
   "execution_count": null,
   "metadata": {},
   "outputs": [],
   "source": [
    "# import the necessary packages\n",
    "from skimage import feature\n",
    "import numpy as np\n",
    "import cv2\n",
    "class LocalBinaryPatterns:\n",
    "    def __init__(self, numPoints, radius):\n",
    "        self.numPoints = numPoints;\n",
    "        self.radius = radius\n",
    "    def describe(self, image, eps=1e-7):\t\n",
    "        lbp = feature.local_binary_pattern(image, self.numPoints,\n",
    "\t\t\tself.radius, method=\"uniform\")\t\t\n",
    "        (hist, _) = np.histogram(lbp.ravel(),\n",
    "\t\t\tbins=np.arange(0, self.numPoints + 3),\n",
    "\t\t\trange=(0, self.numPoints + 2))\n",
    "                \n",
    "        cv2.imwrite(\"lbp_test\",lbp)\n",
    "\t\t# normalize the histogram\t\t\n",
    "        hist = hist.astype(\"float\")\t\t\n",
    "        hist /= (hist.sum() + eps)\n",
    "\t\t# return the histogram of Local Binary Patterns\t\t\n",
    "        return hist"
   ]
  },
  {
   "cell_type": "code",
   "execution_count": null,
   "metadata": {},
   "outputs": [],
   "source": [
    "# import the necessary packages\n",
    "from pyimagesearch.localbinarypatterns import LocalBinaryPatterns\n",
    "from sklearn.svm import LinearSVC\n",
    "from imutils import paths\n",
    "import argparse\n",
    "import cv2\n",
    "import os\n",
    "# construct the argument parse and parse the arguments\n",
    "ap = argparse.ArgumentParser()\n",
    "ap.add_argument(\"-t\", \"--training\", required=True,\n",
    "\thelp=\"path to the training images\")\n",
    "ap.add_argument(\"-e\", \"--testing\", required=True, \n",
    "\thelp=\"path to the tesitng images\")\n",
    "args = vars(ap.parse_args())\n",
    "# initialize the local binary patterns descriptor along with\n",
    "# the data and label lists\n",
    "desc = LocalBinaryPatterns(24, 8)\n",
    "data = []\n",
    "labels = []"
   ]
  },
  {
   "cell_type": "code",
   "execution_count": null,
   "metadata": {},
   "outputs": [],
   "source": [
    "# loop over the training images\n",
    "for imagePath in paths.list_images(args[\"training\"]):\n",
    "\t# load the image, convert it to grayscale, and describe it\n",
    "\timage = cv2.imread(imagePath)\n",
    "\tgray = cv2.cvtColor(image, cv2.COLOR_BGR2GRAY)\n",
    "\thist = desc.describe(gray)\n",
    "\t# extract the label from the image path, then update the\n",
    "\t# label and data lists\n",
    "\tlabels.append(imagePath.split(os.path.sep)[-2])\n",
    "\tdata.append(hist)\n",
    "# train a Linear SVM on the data\n",
    "model = LinearSVC(C=100.0, random_state=42)\n",
    "model.fit(data, labels)"
   ]
  },
  {
   "cell_type": "code",
   "execution_count": null,
   "metadata": {},
   "outputs": [],
   "source": [
    "# loop over the testing images\n",
    "for imagePath in paths.list_images(args[\"testing\"]):\n",
    "\t# load the image, convert it to grayscale, describe it,\n",
    "\t# and classify it\n",
    "\timage = cv2.imread(imagePath)\n",
    "\tgray = cv2.cvtColor(image, cv2.COLOR_BGR2GRAY)\n",
    "\thist = desc.describe(gray)\n",
    "\tprediction = model.predict(hist.reshape(1, -1))\n",
    "\t\n",
    "\t# display the image and the prediction\n",
    "\tcv2.putText(image, prediction[0], (10, 30), cv2.FONT_HERSHEY_SIMPLEX,\n",
    "\t\t1.0, (0, 0, 255), 3)\n",
    "\tcv2.imshow(\"Image\", image)\n",
    "\tcv2.waitKey(0)"
   ]
  }
 ],
 "metadata": {
  "kernelspec": {
   "display_name": "Python 3.9.7 ('base')",
   "language": "python",
   "name": "python3"
  },
  "language_info": {
   "name": "python",
   "version": "3.9.7"
  },
  "orig_nbformat": 4,
  "vscode": {
   "interpreter": {
    "hash": "e640534e854153cf3aa919e1f87cee531bdf125cbd105027239b8a6dcae82d24"
   }
  }
 },
 "nbformat": 4,
 "nbformat_minor": 2
}
